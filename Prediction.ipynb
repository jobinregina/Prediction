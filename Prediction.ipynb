{
 "cells": [
  {
   "cell_type": "code",
   "execution_count": 1,
   "metadata": {},
   "outputs": [],
   "source": [
    "#classical methods for age prediction- Keras+ Scikit Learn\n",
    "import numpy as np\n",
    "import pandas as pd\n",
    "import matplotlib.pyplot as plt\n",
    "import seaborn as sns\n",
    "import mpl_toolkits\n",
    "%matplotlib inline"
   ]
  },
  {
   "cell_type": "code",
   "execution_count": 2,
   "metadata": {},
   "outputs": [
    {
     "data": {
      "text/html": [
       "<div>\n",
       "<style scoped>\n",
       "    .dataframe tbody tr th:only-of-type {\n",
       "        vertical-align: middle;\n",
       "    }\n",
       "\n",
       "    .dataframe tbody tr th {\n",
       "        vertical-align: top;\n",
       "    }\n",
       "\n",
       "    .dataframe thead th {\n",
       "        text-align: right;\n",
       "    }\n",
       "</style>\n",
       "<table border=\"1\" class=\"dataframe\">\n",
       "  <thead>\n",
       "    <tr style=\"text-align: right;\">\n",
       "      <th></th>\n",
       "      <th>Sex</th>\n",
       "      <th>Length</th>\n",
       "      <th>Diameter</th>\n",
       "      <th>Height</th>\n",
       "      <th>Whole</th>\n",
       "      <th>Shucked</th>\n",
       "      <th>Viscera</th>\n",
       "      <th>Shell</th>\n",
       "      <th>Rings</th>\n",
       "    </tr>\n",
       "  </thead>\n",
       "  <tbody>\n",
       "    <tr>\n",
       "      <th>0</th>\n",
       "      <td>1</td>\n",
       "      <td>0.455</td>\n",
       "      <td>0.365</td>\n",
       "      <td>0.095</td>\n",
       "      <td>0.5140</td>\n",
       "      <td>0.2245</td>\n",
       "      <td>0.1010</td>\n",
       "      <td>0.150</td>\n",
       "      <td>15</td>\n",
       "    </tr>\n",
       "    <tr>\n",
       "      <th>1</th>\n",
       "      <td>1</td>\n",
       "      <td>0.350</td>\n",
       "      <td>0.265</td>\n",
       "      <td>0.090</td>\n",
       "      <td>0.2255</td>\n",
       "      <td>0.0995</td>\n",
       "      <td>0.0485</td>\n",
       "      <td>0.070</td>\n",
       "      <td>7</td>\n",
       "    </tr>\n",
       "    <tr>\n",
       "      <th>2</th>\n",
       "      <td>2</td>\n",
       "      <td>0.530</td>\n",
       "      <td>0.420</td>\n",
       "      <td>0.135</td>\n",
       "      <td>0.6770</td>\n",
       "      <td>0.2565</td>\n",
       "      <td>0.1415</td>\n",
       "      <td>0.210</td>\n",
       "      <td>9</td>\n",
       "    </tr>\n",
       "    <tr>\n",
       "      <th>3</th>\n",
       "      <td>1</td>\n",
       "      <td>0.440</td>\n",
       "      <td>0.365</td>\n",
       "      <td>0.125</td>\n",
       "      <td>0.5160</td>\n",
       "      <td>0.2155</td>\n",
       "      <td>0.1140</td>\n",
       "      <td>0.155</td>\n",
       "      <td>10</td>\n",
       "    </tr>\n",
       "    <tr>\n",
       "      <th>4</th>\n",
       "      <td>3</td>\n",
       "      <td>0.330</td>\n",
       "      <td>0.255</td>\n",
       "      <td>0.080</td>\n",
       "      <td>0.2050</td>\n",
       "      <td>0.0895</td>\n",
       "      <td>0.0395</td>\n",
       "      <td>0.055</td>\n",
       "      <td>7</td>\n",
       "    </tr>\n",
       "  </tbody>\n",
       "</table>\n",
       "</div>"
      ],
      "text/plain": [
       "   Sex  Length  Diameter  Height   Whole  Shucked  Viscera  Shell  Rings\n",
       "0    1   0.455     0.365   0.095  0.5140   0.2245   0.1010  0.150     15\n",
       "1    1   0.350     0.265   0.090  0.2255   0.0995   0.0485  0.070      7\n",
       "2    2   0.530     0.420   0.135  0.6770   0.2565   0.1415  0.210      9\n",
       "3    1   0.440     0.365   0.125  0.5160   0.2155   0.1140  0.155     10\n",
       "4    3   0.330     0.255   0.080  0.2050   0.0895   0.0395  0.055      7"
      ]
     },
     "execution_count": 2,
     "metadata": {},
     "output_type": "execute_result"
    }
   ],
   "source": [
    "data = pd.read_csv(\"../Python/Dataset/Age\")\n",
    "data.head()"
   ]
  },
  {
   "cell_type": "code",
   "execution_count": 3,
   "metadata": {},
   "outputs": [
    {
     "data": {
      "text/plain": [
       "<function seaborn.utils.despine>"
      ]
     },
     "execution_count": 3,
     "metadata": {},
     "output_type": "execute_result"
    },
    {
     "data": {
      "image/png": "[encoded data removed]",
      "text/plain": [
       "<matplotlib.figure.Figure at 0x7fee26cc0150>"
      ]
     },
     "metadata": {},
     "output_type": "display_data"
    }
   ],
   "source": [
    "data['Rings'].value_counts().plot(kind='bar')\n",
    "plt.title('number of Rings')\n",
    "plt.xlabel('count')\n",
    "plt.ylabel('Rings')\n",
    "sns.despine"
   ]
  },
  {
   "cell_type": "code",
   "execution_count": 4,
   "metadata": {},
   "outputs": [
    {
     "data": {
      "text/plain": [
       "<matplotlib.text.Text at 0x7fee26c15050>"
      ]
     },
     "execution_count": 4,
     "metadata": {},
     "output_type": "execute_result"
    },
    {
     "data": {
      "image/png": "[encoded data removed]",
      "text/plain": [
       "<matplotlib.figure.Figure at 0x7fee24a64310>"
      ]
     },
     "metadata": {},
     "output_type": "display_data"
    }
   ],
   "source": [
    "plt.scatter(data.Sex,data.Rings)\n",
    "plt.title('number of Rings')\n",
    "plt.xlabel('Sex')\n",
    "plt.ylabel('Rings')"
   ]
  },
  {
   "cell_type": "code",
   "execution_count": 5,
   "metadata": {},
   "outputs": [
    {
     "data": {
      "text/plain": [
       "<matplotlib.text.Text at 0x7fee24926d50>"
      ]
     },
     "execution_count": 5,
     "metadata": {},
     "output_type": "execute_result"
    },
    {
     "data": {
      "image/png": "[encoded data removed]",
      "text/plain": [
       "<matplotlib.figure.Figure at 0x7fee2490b210>"
      ]
     },
     "metadata": {},
     "output_type": "display_data"
    }
   ],
   "source": [
    "plt.scatter(data.Diameter,data.Rings)\n",
    "plt.title('number of Rings')\n",
    "plt.xlabel('count')\n",
    "plt.ylabel('Rings')"
   ]
  },
  {
   "cell_type": "code",
   "execution_count": 6,
   "metadata": {},
   "outputs": [],
   "source": [
    "#Linear regression\n",
    "from sklearn.linear_model import LinearRegression"
   ]
  },
  {
   "cell_type": "code",
   "execution_count": 7,
   "metadata": {},
   "outputs": [],
   "source": [
    "reg = LinearRegression()"
   ]
  },
  {
   "cell_type": "code",
   "execution_count": 8,
   "metadata": {},
   "outputs": [],
   "source": [
    "labels = data['Rings']\n",
    "train1 = data.drop(['Rings'],axis=1)"
   ]
  },
  {
   "cell_type": "code",
   "execution_count": 9,
   "metadata": {},
   "outputs": [
    {
     "name": "stderr",
     "output_type": "stream",
     "text": [
      "/home/jobin/anaconda2/lib/python2.7/site-packages/sklearn/cross_validation.py:41: DeprecationWarning: This module was deprecated in version 0.18 in favor of the model_selection module into which all the refactored classes and functions are moved. Also note that the interface of the new CV iterators are different from that of this module. This module will be removed in 0.20.\n",
      "  \"This module will be removed in 0.20.\", DeprecationWarning)\n"
     ]
    }
   ],
   "source": [
    "from sklearn.cross_validation import train_test_split"
   ]
  },
  {
   "cell_type": "code",
   "execution_count": 10,
   "metadata": {},
   "outputs": [
    {
     "data": {
      "text/plain": [
       "LinearRegression(copy_X=True, fit_intercept=True, n_jobs=1, normalize=False)"
      ]
     },
     "execution_count": 10,
     "metadata": {},
     "output_type": "execute_result"
    }
   ],
   "source": [
    "x_train, x_test, y_train, y_test = train_test_split(train1, labels, test_size=0.20, random_state =2 )\n",
    "reg.fit(x_train,y_train)"
   ]
  },
  {
   "cell_type": "code",
   "execution_count": 11,
   "metadata": {},
   "outputs": [
    {
     "data": {
      "text/plain": [
       "0.5216700960988542"
      ]
     },
     "execution_count": 11,
     "metadata": {},
     "output_type": "execute_result"
    }
   ],
   "source": [
    "reg.score(x_test,y_test)"
   ]
  },
  {
   "cell_type": "code",
   "execution_count": 12,
   "metadata": {},
   "outputs": [],
   "source": [
    "# gradient boost regression\n",
    "from sklearn import ensemble\n",
    "clf = ensemble.GradientBoostingRegressor(n_estimators=400, max_depth =6, min_samples_split = 4, \n",
    "                                         learning_rate = 0.01, loss= 'ls')"
   ]
  },
  {
   "cell_type": "code",
   "execution_count": 13,
   "metadata": {},
   "outputs": [
    {
     "data": {
      "text/plain": [
       "GradientBoostingRegressor(alpha=0.9, criterion='friedman_mse', init=None,\n",
       "             learning_rate=0.01, loss='ls', max_depth=6, max_features=None,\n",
       "             max_leaf_nodes=None, min_impurity_decrease=0.0,\n",
       "             min_impurity_split=None, min_samples_leaf=1,\n",
       "             min_samples_split=4, min_weight_fraction_leaf=0.0,\n",
       "             n_estimators=400, presort='auto', random_state=None,\n",
       "             subsample=1.0, verbose=0, warm_start=False)"
      ]
     },
     "execution_count": 13,
     "metadata": {},
     "output_type": "execute_result"
    }
   ],
   "source": [
    "clf.fit(x_train,y_train)"
   ]
  },
  {
   "cell_type": "code",
   "execution_count": 14,
   "metadata": {},
   "outputs": [
    {
     "data": {
      "text/plain": [
       "0.5698089003362754"
      ]
     },
     "execution_count": 14,
     "metadata": {},
     "output_type": "execute_result"
    }
   ],
   "source": [
    "clf.score(x_test,y_test)"
   ]
  },
  {
   "cell_type": "code",
   "execution_count": null,
   "metadata": {},
   "outputs": [],
   "source": []
  },
  {
   "cell_type": "code",
   "execution_count": 15,
   "metadata": {},
   "outputs": [
    {
     "name": "stderr",
     "output_type": "stream",
     "text": [
      "/home/jobin/anaconda2/lib/python2.7/site-packages/h5py/__init__.py:36: FutureWarning: Conversion of the second argument of issubdtype from `float` to `np.floating` is deprecated. In future, it will be treated as `np.float64 == np.dtype(float).type`.\n",
      "  from ._conv import register_converters as _register_converters\n",
      "Using TensorFlow backend.\n"
     ]
    }
   ],
   "source": [
    "#neural network for time series prediction Keras+ Theano\n",
    "from keras.models import Sequential\n",
    "from keras.layers import Dense, LSTM\n",
    "from sklearn.preprocessing import MinMaxScaler\n",
    "import math"
   ]
  },
  {
   "cell_type": "code",
   "execution_count": 16,
   "metadata": {},
   "outputs": [],
   "source": [
    "np.random.seed(7)\n",
    "df = pd.read_csv(\"../Python/Dataset/passengers.csv\", sep=';', parse_dates=True, index_col=0)\n",
    "data = df.values\n",
    "data = data.astype('float32')\n",
    "train = data[0:120,:]\n",
    "test = data[120:,:]"
   ]
  },
  {
   "cell_type": "code",
   "execution_count": 17,
   "metadata": {},
   "outputs": [],
   "source": [
    "def prepare_data(data, lags=1):\n",
    "    X, y = [],[]\n",
    "    for row in range (len(data)-lags-1):\n",
    "        a = data[row:(row+lags),0]\n",
    "        X.append(a)\n",
    "        y.append(data[row+lags,0])\n",
    "    return np.array(X), np.array(y)\n",
    "lags=1\n",
    "X_train, y_train = prepare_data(train, lags)\n",
    "X_test, y_test = prepare_data(test, lags)\n",
    "y_true = y_test"
   ]
  },
  {
   "cell_type": "code",
   "execution_count": 18,
   "metadata": {},
   "outputs": [
    {
     "data": {
      "text/plain": [
       "<function matplotlib.pyplot.show>"
      ]
     },
     "execution_count": 18,
     "metadata": {},
     "output_type": "execute_result"
    },
    {
     "data": {
      "image/png": "[encoded data removed]",
      "text/plain": [
       "<matplotlib.figure.Figure at 0x7fedf9d57590>"
      ]
     },
     "metadata": {},
     "output_type": "display_data"
    }
   ],
   "source": [
    "plt.plot(y_test,label='Original Data | y or t+1', color = '#006699')\n",
    "plt.plot(X_test,label='Lagged Data | X or t', color = '#ff0066')\n",
    "plt.legend(loc='upper left')\n",
    "plt.title('One period Lagged data')\n",
    "plt.show"
   ]
  },
  {
   "cell_type": "code",
   "execution_count": 19,
   "metadata": {},
   "outputs": [
    {
     "name": "stdout",
     "output_type": "stream",
     "text": [
      "Epoch 1/200\n",
      " - 0s - loss: 44665.6885\n",
      "Epoch 2/200\n",
      " - 0s - loss: 36787.0864\n",
      "Epoch 3/200\n",
      " - 0s - loss: 28625.0052\n",
      "Epoch 4/200\n",
      " - 0s - loss: 20593.7936\n",
      "Epoch 5/200\n",
      " - 0s - loss: 13540.4101\n",
      "Epoch 6/200\n",
      " - 0s - loss: 8116.9804\n",
      "Epoch 7/200\n",
      " - 0s - loss: 4484.1327\n",
      "Epoch 8/200\n",
      " - 0s - loss: 2442.4896\n",
      "Epoch 9/200\n",
      " - 0s - loss: 1428.9916\n",
      "Epoch 10/200\n",
      " - 0s - loss: 1028.6580\n",
      "Epoch 11/200\n",
      " - 0s - loss: 888.7442\n",
      "Epoch 12/200\n",
      " - 0s - loss: 841.8815\n",
      "Epoch 13/200\n",
      " - 0s - loss: 831.8561\n",
      "Epoch 14/200\n",
      " - 0s - loss: 831.6369\n",
      "Epoch 15/200\n",
      " - 0s - loss: 827.2567\n",
      "Epoch 16/200\n",
      " - 0s - loss: 830.2156\n",
      "Epoch 17/200\n",
      " - 0s - loss: 831.4749\n",
      "Epoch 18/200\n",
      " - 0s - loss: 826.8436\n",
      "Epoch 19/200\n",
      " - 0s - loss: 827.5675\n",
      "Epoch 20/200\n",
      " - 0s - loss: 829.3061\n",
      "Epoch 21/200\n",
      " - 0s - loss: 833.9242\n",
      "Epoch 22/200\n",
      " - 0s - loss: 828.6805\n",
      "Epoch 23/200\n",
      " - 0s - loss: 828.0706\n",
      "Epoch 24/200\n",
      " - 0s - loss: 825.1940\n",
      "Epoch 25/200\n",
      " - 0s - loss: 826.7681\n",
      "Epoch 26/200\n",
      " - 0s - loss: 833.4315\n",
      "Epoch 27/200\n",
      " - 0s - loss: 825.8851\n",
      "Epoch 28/200\n",
      " - 0s - loss: 828.9371\n",
      "Epoch 29/200\n",
      " - 0s - loss: 832.1576\n",
      "Epoch 30/200\n",
      " - 0s - loss: 832.2362\n",
      "Epoch 31/200\n",
      " - 0s - loss: 830.2589\n",
      "Epoch 32/200\n",
      " - 0s - loss: 832.2286\n",
      "Epoch 33/200\n",
      " - 0s - loss: 842.6305\n",
      "Epoch 34/200\n",
      " - 0s - loss: 831.1976\n",
      "Epoch 35/200\n",
      " - 0s - loss: 837.9628\n",
      "Epoch 36/200\n",
      " - 0s - loss: 830.8468\n",
      "Epoch 37/200\n",
      " - 0s - loss: 834.8200\n",
      "Epoch 38/200\n",
      " - 0s - loss: 828.3081\n",
      "Epoch 39/200\n",
      " - 0s - loss: 829.8955\n",
      "Epoch 40/200\n",
      " - 0s - loss: 842.7066\n",
      "Epoch 41/200\n",
      " - 0s - loss: 832.0308\n",
      "Epoch 42/200\n",
      " - 0s - loss: 829.8140\n",
      "Epoch 43/200\n",
      " - 0s - loss: 832.6568\n",
      "Epoch 44/200\n",
      " - 0s - loss: 827.3841\n",
      "Epoch 45/200\n",
      " - 0s - loss: 835.9230\n",
      "Epoch 46/200\n",
      " - 0s - loss: 826.6566\n",
      "Epoch 47/200\n",
      " - 0s - loss: 842.2519\n",
      "Epoch 48/200\n",
      " - 0s - loss: 827.0687\n",
      "Epoch 49/200\n",
      " - 0s - loss: 833.4318\n",
      "Epoch 50/200\n",
      " - 0s - loss: 829.8768\n",
      "Epoch 51/200\n",
      " - 0s - loss: 833.6699\n",
      "Epoch 52/200\n",
      " - 0s - loss: 834.0362\n",
      "Epoch 53/200\n",
      " - 0s - loss: 834.3244\n",
      "Epoch 54/200\n",
      " - 0s - loss: 836.7714\n",
      "Epoch 55/200\n",
      " - 0s - loss: 839.0575\n",
      "Epoch 56/200\n",
      " - 0s - loss: 830.8604\n",
      "Epoch 57/200\n",
      " - 0s - loss: 828.9787\n",
      "Epoch 58/200\n",
      " - 0s - loss: 835.2489\n",
      "Epoch 59/200\n",
      " - 0s - loss: 832.0910\n",
      "Epoch 60/200\n",
      " - 0s - loss: 828.7370\n",
      "Epoch 61/200\n",
      " - 0s - loss: 841.7316\n",
      "Epoch 62/200\n",
      " - 0s - loss: 836.4898\n",
      "Epoch 63/200\n",
      " - 0s - loss: 830.8656\n",
      "Epoch 64/200\n",
      " - 0s - loss: 834.3724\n",
      "Epoch 65/200\n",
      " - 0s - loss: 835.9072\n",
      "Epoch 66/200\n",
      " - 0s - loss: 827.6220\n",
      "Epoch 67/200\n",
      " - 0s - loss: 837.6631\n",
      "Epoch 68/200\n",
      " - 0s - loss: 829.7145\n",
      "Epoch 69/200\n",
      " - 0s - loss: 834.1904\n",
      "Epoch 70/200\n",
      " - 0s - loss: 824.2517\n",
      "Epoch 71/200\n",
      " - 0s - loss: 827.0553\n",
      "Epoch 72/200\n",
      " - 0s - loss: 836.9955\n",
      "Epoch 73/200\n",
      " - 0s - loss: 846.2117\n",
      "Epoch 74/200\n",
      " - 0s - loss: 855.2010\n",
      "Epoch 75/200\n",
      " - 0s - loss: 835.6420\n",
      "Epoch 76/200\n",
      " - 0s - loss: 829.2806\n",
      "Epoch 77/200\n",
      " - 0s - loss: 828.7028\n",
      "Epoch 78/200\n",
      " - 0s - loss: 825.6138\n",
      "Epoch 79/200\n",
      " - 0s - loss: 835.2663\n",
      "Epoch 80/200\n",
      " - 0s - loss: 842.5549\n",
      "Epoch 81/200\n",
      " - 0s - loss: 833.0550\n",
      "Epoch 82/200\n",
      " - 0s - loss: 832.2668\n",
      "Epoch 83/200\n",
      " - 0s - loss: 835.9007\n",
      "Epoch 84/200\n",
      " - 0s - loss: 838.1352\n",
      "Epoch 85/200\n",
      " - 0s - loss: 835.0801\n",
      "Epoch 86/200\n",
      " - 0s - loss: 832.1375\n",
      "Epoch 87/200\n",
      " - 0s - loss: 827.8677\n",
      "Epoch 88/200\n",
      " - 0s - loss: 842.9974\n",
      "Epoch 89/200\n",
      " - 0s - loss: 827.9335\n",
      "Epoch 90/200\n",
      " - 0s - loss: 830.2436\n",
      "Epoch 91/200\n",
      " - 0s - loss: 842.6276\n",
      "Epoch 92/200\n",
      " - 0s - loss: 834.0003\n",
      "Epoch 93/200\n",
      " - 0s - loss: 827.6985\n",
      "Epoch 94/200\n",
      " - 0s - loss: 834.0903\n",
      "Epoch 95/200\n",
      " - 0s - loss: 827.0581\n",
      "Epoch 96/200\n",
      " - 0s - loss: 832.6261\n",
      "Epoch 97/200\n",
      " - 0s - loss: 835.1352\n",
      "Epoch 98/200\n",
      " - 0s - loss: 832.9759\n",
      "Epoch 99/200\n",
      " - 0s - loss: 833.8130\n",
      "Epoch 100/200\n",
      " - 0s - loss: 833.5262\n",
      "Epoch 101/200\n",
      " - 0s - loss: 835.1312\n",
      "Epoch 102/200\n",
      " - 0s - loss: 841.4338\n",
      "Epoch 103/200\n",
      " - 0s - loss: 835.1342\n",
      "Epoch 104/200\n",
      " - 0s - loss: 829.5499\n",
      "Epoch 105/200\n",
      " - 0s - loss: 828.8657\n",
      "Epoch 106/200\n",
      " - 0s - loss: 843.1553\n",
      "Epoch 107/200\n",
      " - 0s - loss: 834.2796\n",
      "Epoch 108/200\n",
      " - 0s - loss: 851.5490\n",
      "Epoch 109/200\n",
      " - 0s - loss: 860.0506\n",
      "Epoch 110/200\n",
      " - 0s - loss: 844.8558\n",
      "Epoch 111/200\n",
      " - 0s - loss: 832.6896\n",
      "Epoch 112/200\n",
      " - 0s - loss: 841.8980\n",
      "Epoch 113/200\n",
      " - 0s - loss: 838.9906\n",
      "Epoch 114/200\n",
      " - 0s - loss: 828.3962\n",
      "Epoch 115/200\n",
      " - 0s - loss: 831.2169\n",
      "Epoch 116/200\n",
      " - 0s - loss: 834.5151\n",
      "Epoch 117/200\n",
      " - 0s - loss: 832.5597\n",
      "Epoch 118/200\n",
      " - 0s - loss: 847.5122\n",
      "Epoch 119/200\n",
      " - 0s - loss: 828.1950\n",
      "Epoch 120/200\n",
      " - 0s - loss: 834.7745\n",
      "Epoch 121/200\n",
      " - 0s - loss: 826.6373\n",
      "Epoch 122/200\n",
      " - 0s - loss: 832.1336\n",
      "Epoch 123/200\n",
      " - 0s - loss: 828.0236\n",
      "Epoch 124/200\n",
      " - 0s - loss: 834.2001\n",
      "Epoch 125/200\n",
      " - 0s - loss: 830.0754\n",
      "Epoch 126/200\n",
      " - 0s - loss: 832.9484\n",
      "Epoch 127/200\n",
      " - 0s - loss: 832.9139\n",
      "Epoch 128/200\n",
      " - 0s - loss: 824.9126\n",
      "Epoch 129/200\n",
      " - 0s - loss: 837.9440\n",
      "Epoch 130/200\n",
      " - 0s - loss: 831.4175\n",
      "Epoch 131/200\n",
      " - 0s - loss: 825.7921\n",
      "Epoch 132/200\n",
      " - 0s - loss: 828.1895\n",
      "Epoch 133/200\n",
      " - 0s - loss: 829.6653\n",
      "Epoch 134/200\n",
      " - 0s - loss: 839.6854\n",
      "Epoch 135/200\n",
      " - 0s - loss: 840.2081\n",
      "Epoch 136/200\n",
      " - 0s - loss: 843.4893\n",
      "Epoch 137/200\n",
      " - 0s - loss: 827.7399\n",
      "Epoch 138/200\n",
      " - 0s - loss: 838.2409\n",
      "Epoch 139/200\n",
      " - 0s - loss: 822.5129\n",
      "Epoch 140/200\n",
      " - 0s - loss: 830.2400\n",
      "Epoch 141/200\n",
      " - 0s - loss: 826.9559\n",
      "Epoch 142/200\n",
      " - 0s - loss: 829.6185\n",
      "Epoch 143/200\n",
      " - 0s - loss: 839.5712\n",
      "Epoch 144/200\n",
      " - 0s - loss: 833.3594\n",
      "Epoch 145/200\n",
      " - 0s - loss: 828.0022\n",
      "Epoch 146/200\n",
      " - 0s - loss: 829.7344\n",
      "Epoch 147/200\n",
      " - 0s - loss: 826.9264\n",
      "Epoch 148/200\n",
      " - 0s - loss: 825.8152\n",
      "Epoch 149/200\n",
      " - 0s - loss: 826.3423\n",
      "Epoch 150/200\n",
      " - 0s - loss: 829.8007\n",
      "Epoch 151/200\n",
      " - 0s - loss: 838.1665\n",
      "Epoch 152/200\n",
      " - 0s - loss: 851.1426\n",
      "Epoch 153/200\n",
      " - 0s - loss: 836.8401\n",
      "Epoch 154/200\n",
      " - 0s - loss: 828.3262\n",
      "Epoch 155/200\n",
      " - 0s - loss: 835.5341\n",
      "Epoch 156/200\n",
      " - 0s - loss: 827.3345\n",
      "Epoch 157/200\n",
      " - 0s - loss: 824.0647\n",
      "Epoch 158/200\n",
      " - 0s - loss: 845.8361\n",
      "Epoch 159/200\n",
      " - 0s - loss: 825.9346\n",
      "Epoch 160/200\n",
      " - 0s - loss: 840.5668\n",
      "Epoch 161/200\n",
      " - 0s - loss: 845.6662\n",
      "Epoch 162/200\n",
      " - 0s - loss: 833.6698\n",
      "Epoch 163/200\n",
      " - 0s - loss: 822.4977\n",
      "Epoch 164/200\n",
      " - 0s - loss: 829.7782\n",
      "Epoch 165/200\n",
      " - 0s - loss: 830.9591\n",
      "Epoch 166/200\n",
      " - 0s - loss: 831.1065\n",
      "Epoch 167/200\n",
      " - 0s - loss: 828.7679\n",
      "Epoch 168/200\n",
      " - 0s - loss: 828.6849\n",
      "Epoch 169/200\n",
      " - 0s - loss: 825.4150\n",
      "Epoch 170/200\n",
      " - 0s - loss: 828.2511\n",
      "Epoch 171/200\n",
      " - 0s - loss: 829.8776\n",
      "Epoch 172/200\n",
      " - 0s - loss: 822.3105\n",
      "Epoch 173/200\n",
      " - 0s - loss: 828.9370\n",
      "Epoch 174/200\n",
      " - 0s - loss: 836.1578\n",
      "Epoch 175/200\n",
      " - 0s - loss: 824.2073\n",
      "Epoch 176/200\n",
      " - 0s - loss: 836.4126\n",
      "Epoch 177/200\n",
      " - 0s - loss: 847.5411\n",
      "Epoch 178/200\n",
      " - 0s - loss: 828.4259\n",
      "Epoch 179/200\n",
      " - 0s - loss: 828.1154\n",
      "Epoch 180/200\n",
      " - 0s - loss: 826.9914\n",
      "Epoch 181/200\n",
      " - 0s - loss: 833.2598\n",
      "Epoch 182/200\n",
      " - 0s - loss: 851.8751\n",
      "Epoch 183/200\n",
      " - 0s - loss: 829.4833\n",
      "Epoch 184/200\n",
      " - 0s - loss: 826.6409\n",
      "Epoch 185/200\n",
      " - 0s - loss: 837.3346\n",
      "Epoch 186/200\n",
      " - 0s - loss: 834.3962\n",
      "Epoch 187/200\n",
      " - 0s - loss: 838.2720\n",
      "Epoch 188/200\n",
      " - 0s - loss: 842.3714\n",
      "Epoch 189/200\n",
      " - 0s - loss: 835.8808\n",
      "Epoch 190/200\n",
      " - 0s - loss: 838.5704\n",
      "Epoch 191/200\n",
      " - 0s - loss: 825.9002\n",
      "Epoch 192/200\n",
      " - 0s - loss: 844.6838\n",
      "Epoch 193/200\n",
      " - 0s - loss: 838.8490\n",
      "Epoch 194/200\n",
      " - 0s - loss: 832.7302\n",
      "Epoch 195/200\n",
      " - 0s - loss: 829.8645\n",
      "Epoch 196/200\n",
      " - 0s - loss: 822.4651\n",
      "Epoch 197/200\n",
      " - 0s - loss: 830.9631\n",
      "Epoch 198/200\n",
      " - 0s - loss: 827.2099\n",
      "Epoch 199/200\n",
      " - 0s - loss: 825.4458\n",
      "Epoch 200/200\n",
      " - 0s - loss: 826.1457\n"
     ]
    },
    {
     "data": {
      "text/plain": [
       "<keras.callbacks.History at 0x7fedf9d80290>"
      ]
     },
     "execution_count": 19,
     "metadata": {},
     "output_type": "execute_result"
    }
   ],
   "source": [
    "mdl = Sequential()\n",
    "mdl.add(Dense(3, input_dim=lags, activation='relu'))\n",
    "mdl.add(Dense(1))\n",
    "mdl.compile(loss='mean_squared_error', optimizer ='adam')\n",
    "mdl.fit(X_train, y_train, epochs = 200, batch_size=2, verbose=2)"
   ]
  },
  {
   "cell_type": "code",
   "execution_count": 21,
   "metadata": {},
   "outputs": [
    {
     "name": "stdout",
     "output_type": "stream",
     "text": [
      "Train Score: 816.70 MSE (28.58 RMSE)\n",
      "Test Score: 2800.48 MSE (52.92 RMSE)\n"
     ]
    }
   ],
   "source": [
    "train_score = mdl.evaluate(X_train, y_train, verbose=0)\n",
    "print('Train Score: {:.2f} MSE ({:.2f} RMSE)'.format(train_score, math.sqrt(train_score)))\n",
    "test_score = mdl.evaluate(X_test, y_test, verbose=0)\n",
    "print('Test Score: {:.2f} MSE ({:.2f} RMSE)'.format(test_score, math.sqrt(test_score)))"
   ]
  },
  {
   "cell_type": "code",
   "execution_count": 22,
   "metadata": {},
   "outputs": [
    {
     "data": {
      "image/png": "[encoded data removed]",
      "text/plain": [
       "<matplotlib.figure.Figure at 0x7fedf46c8fd0>"
      ]
     },
     "metadata": {},
     "output_type": "display_data"
    }
   ],
   "source": [
    "train_predict=mdl.predict(X_train)\n",
    "test_predict=mdl.predict(X_test)\n",
    "train_predict_plot = np.empty_like(data)\n",
    "train_predict_plot[:, :] = np.nan\n",
    "train_predict_plot[lags: len(train_predict) + lags, :] = train_predict\n",
    " \n",
    "# shift test predictions for plotting\n",
    "test_predict_plot = np.empty_like(data)\n",
    "test_predict_plot[:, :] = np.nan\n",
    "test_predict_plot[len(train_predict)+(lags*2)+1:len(data)-1, :] = test_predict\n",
    " \n",
    "# plot baseline and predictions\n",
    "plt.plot(data, label='Observed', color='#006699');\n",
    "plt.plot(train_predict_plot, label='Prediction for Train Set', color='#006699', alpha=0.5);\n",
    "plt.plot(test_predict_plot, label='Prediction for Test Set', color='#ff0066');\n",
    "plt.legend(loc='best');\n",
    "plt.title('Artificial Neural Network')\n",
    "plt.show()"
   ]
  },
  {
   "cell_type": "code",
   "execution_count": 23,
   "metadata": {},
   "outputs": [
    {
     "data": {
      "image/png": "[encoded data removed]",
      "text/plain": [
       "<matplotlib.figure.Figure at 0x7fedf46c8250>"
      ]
     },
     "metadata": {},
     "output_type": "display_data"
    }
   ],
   "source": [
    "mse = ((y_test.reshape(-1, 1) - test_predict.reshape(-1, 1)) ** 2).mean()\n",
    "plt.title('Prediction quality: {:.2f} MSE ({:.2f} RMSE)'.format(mse, math.sqrt(mse)))\n",
    "plt.plot(y_test.reshape(-1, 1), label='Observed', color='#006699')\n",
    "plt.plot(test_predict.reshape(-1, 1), label='Prediction', color='#ff0066')\n",
    "plt.legend(loc='best');\n",
    "plt.show()"
   ]
  },
  {
   "cell_type": "code",
   "execution_count": null,
   "metadata": {},
   "outputs": [],
   "source": []
  },
  {
   "cell_type": "code",
   "execution_count": 24,
   "metadata": {},
   "outputs": [
    {
     "name": "stdout",
     "output_type": "stream",
     "text": [
      "WARNING:tensorflow:From /home/jobin/anaconda2/lib/python2.7/site-packages/tensorflow/contrib/learn/python/learn/datasets/base.py:198: retry (from tensorflow.contrib.learn.python.learn.datasets.base) is deprecated and will be removed in a future version.\n",
      "Instructions for updating:\n",
      "Use the retry module or similar alternatives.\n"
     ]
    }
   ],
   "source": [
    "#neural network for time series prediction Keras+ Tensorflow\n",
    "import tensorflow as tf\n",
    "import pandas as pd\n",
    "import numpy as np\n",
    "import os\n",
    "import matplotlib\n",
    "import matplotlib.pyplot as plt\n",
    "import random\n",
    "%matplotlib inline\n",
    "import shutil\n",
    "import tensorflow.contrib.learn as tflearn\n",
    "import tensorflow.contrib.layers as tflayers\n",
    "from tensorflow.contrib.learn.python.learn import learn_runner\n",
    "import tensorflow.contrib.metrics as metrics\n",
    "import tensorflow.contrib.rnn as rnn"
   ]
  },
  {
   "cell_type": "code",
   "execution_count": 25,
   "metadata": {},
   "outputs": [
    {
     "data": {
      "text/html": [
       "<div>\n",
       "<style scoped>\n",
       "    .dataframe tbody tr th:only-of-type {\n",
       "        vertical-align: middle;\n",
       "    }\n",
       "\n",
       "    .dataframe tbody tr th {\n",
       "        vertical-align: top;\n",
       "    }\n",
       "\n",
       "    .dataframe thead th {\n",
       "        text-align: right;\n",
       "    }\n",
       "</style>\n",
       "<table border=\"1\" class=\"dataframe\">\n",
       "  <thead>\n",
       "    <tr style=\"text-align: right;\">\n",
       "      <th></th>\n",
       "      <th>EEG</th>\n",
       "    </tr>\n",
       "  </thead>\n",
       "  <tbody>\n",
       "    <tr>\n",
       "      <th>0</th>\n",
       "      <td>12</td>\n",
       "    </tr>\n",
       "    <tr>\n",
       "      <th>1</th>\n",
       "      <td>22</td>\n",
       "    </tr>\n",
       "    <tr>\n",
       "      <th>2</th>\n",
       "      <td>35</td>\n",
       "    </tr>\n",
       "    <tr>\n",
       "      <th>3</th>\n",
       "      <td>45</td>\n",
       "    </tr>\n",
       "    <tr>\n",
       "      <th>4</th>\n",
       "      <td>69</td>\n",
       "    </tr>\n",
       "  </tbody>\n",
       "</table>\n",
       "</div>"
      ],
      "text/plain": [
       "   EEG\n",
       "0   12\n",
       "1   22\n",
       "2   35\n",
       "3   45\n",
       "4   69"
      ]
     },
     "execution_count": 25,
     "metadata": {},
     "output_type": "execute_result"
    }
   ],
   "source": [
    "#read data\n",
    "data = pd.read_csv(\"../Python/Dataset/eeg\")\n",
    "data.head()"
   ]
  },
  {
   "cell_type": "code",
   "execution_count": 26,
   "metadata": {},
   "outputs": [
    {
     "name": "stdout",
     "output_type": "stream",
     "text": [
      "4096\n"
     ]
    },
    {
     "data": {
      "text/plain": [
       "[<matplotlib.lines.Line2D at 0x7feda28de150>]"
      ]
     },
     "execution_count": 26,
     "metadata": {},
     "output_type": "execute_result"
    },
    {
     "data": {
      "image/png": "[encoded data removed]",
      "text/plain": [
       "<matplotlib.figure.Figure at 0x7feda293dc50>"
      ]
     },
     "metadata": {},
     "output_type": "display_data"
    }
   ],
   "source": [
    "#parse & plot data\n",
    "ts = data['EEG']\n",
    "ts = ts[0:(len(ts)-1)]\n",
    "print len(ts)\n",
    "plt.plot(ts)"
   ]
  },
  {
   "cell_type": "code",
   "execution_count": 27,
   "metadata": {
    "scrolled": true
   },
   "outputs": [
    {
     "name": "stdout",
     "output_type": "stream",
     "text": [
      "204\n",
      "(204, 20, 1)\n",
      "204\n",
      "(204, 20, 1)\n"
     ]
    }
   ],
   "source": [
    "#prepare train data into batches\n",
    "TS = np.array(ts[0:(len(ts))])\n",
    "num_periods = 20\n",
    "f_horizon = 1\n",
    "x_data = TS[:(len(TS)-(len(TS)%num_periods))] #selected the first window of entire data fit in batches of num_periods\n",
    "x_batches = x_data.reshape(-1, 20, 1)\n",
    "\n",
    "y_data = TS[1:(len(TS)-(len(TS)%num_periods))+f_horizon] # left the frist sample and selected the next window of data\n",
    "y_batches = y_data.reshape(-1, 20, 1)\n",
    "print(len(x_batches))\n",
    "print(x_batches.shape)\n",
    "#print(x_batches[0:2])\n",
    "\n",
    "print(len(y_batches))\n",
    "print(y_batches.shape)\n",
    "#print(y_batches[0:2])"
   ]
  },
  {
   "cell_type": "code",
   "execution_count": 28,
   "metadata": {},
   "outputs": [
    {
     "data": {
      "text/plain": [
       "array([ 12,  22,  35, ..., -23, -31, -23])"
      ]
     },
     "execution_count": 28,
     "metadata": {},
     "output_type": "execute_result"
    }
   ],
   "source": [
    "x_data"
   ]
  },
  {
   "cell_type": "code",
   "execution_count": 29,
   "metadata": {},
   "outputs": [
    {
     "data": {
      "text/plain": [
       "array([ 22,  35,  45, ..., -31, -23,  -1])"
      ]
     },
     "execution_count": 29,
     "metadata": {},
     "output_type": "execute_result"
    }
   ],
   "source": [
    "y_data"
   ]
  },
  {
   "cell_type": "code",
   "execution_count": 30,
   "metadata": {},
   "outputs": [
    {
     "name": "stdout",
     "output_type": "stream",
     "text": [
      "(1, 20, 1)\n",
      "(1, 20, 1)\n"
     ]
    }
   ],
   "source": [
    "# prepare test data\n",
    "def test_data (series, forecasts, num_periods):\n",
    "    test_x_setup=TS[-(num_periods+forecasts):] # selected the last batch\n",
    "    test_X=test_x_setup[:(num_periods)].reshape(-1,20,1) # selected the first 20(num_period) of last batch(size 21)\n",
    "    test_Y=TS[-(num_periods):].reshape(-1,20,1) # selcted the last 20 of last of last batch(size 21)\n",
    "    return test_X, test_Y\n",
    "X_test, Y_test = test_data(TS,f_horizon,num_periods)\n",
    "print(X_test.shape)\n",
    "print(Y_test.shape)"
   ]
  },
  {
   "cell_type": "code",
   "execution_count": 31,
   "metadata": {},
   "outputs": [],
   "source": [
    "# Create tensorflow graph\n",
    "tf. reset_default_graph()\n",
    "num_periods = 20\n",
    "inputs =1\n",
    "hidden = 300\n",
    "output = 1\n",
    "\n",
    "X = tf.placeholder(tf.float32, [None, num_periods, inputs])\n",
    "y = tf.placeholder(tf.float32, [None, num_periods, output])\n",
    "\n",
    "basic_cell = tf.contrib.rnn.BasicRNNCell(num_units = hidden, activation = tf.nn.relu)\n",
    "rnn_output, states = tf.nn.dynamic_rnn(basic_cell, X, dtype = tf.float32)\n",
    "\n",
    "learning_rate = 0.001\n",
    "\n",
    "stacked_rnn_output = tf.reshape(rnn_output, [-1, hidden])\n",
    "stacked_outputs = tf.layers.dense(stacked_rnn_output, output)\n",
    "outputs = tf.reshape(stacked_outputs, [-1, num_periods, output])\n",
    "\n",
    "loss = tf.reduce_sum(tf.square(outputs-y))\n",
    "optimizer = tf.train.AdamOptimizer(learning_rate=learning_rate)\n",
    "training_op = optimizer.minimize(loss)\n",
    "\n",
    "init= tf.global_variables_initializer()"
   ]
  },
  {
   "cell_type": "code",
   "execution_count": 32,
   "metadata": {
    "scrolled": true
   },
   "outputs": [
    {
     "name": "stdout",
     "output_type": "stream",
     "text": [
      "0 \tMSE: 7006844.0\n",
      "10 \tMSE: 1772210.5\n",
      "20 \tMSE: 1168005.0\n",
      "30 \tMSE: 922498.6\n",
      "40 \tMSE: 794828.5\n",
      "50 \tMSE: 680976.25\n",
      "60 \tMSE: 690193.3\n",
      "70 \tMSE: 599189.1\n",
      "80 \tMSE: 680876.7\n",
      "90 \tMSE: 526264.0\n",
      "100 \tMSE: 432661.88\n",
      "110 \tMSE: 382873.12\n",
      "120 \tMSE: 351179.0\n",
      "130 \tMSE: 354276.62\n",
      "140 \tMSE: 312692.44\n",
      "150 \tMSE: 295025.72\n",
      "160 \tMSE: 282220.3\n",
      "170 \tMSE: 272412.8\n",
      "180 \tMSE: 264788.62\n"
     ]
    },
    {
     "ename": "KeyboardInterrupt",
     "evalue": "",
     "output_type": "error",
     "traceback": [
      "\u001b[0;31m---------------------------------------------------------------------------\u001b[0m",
      "\u001b[0;31mKeyboardInterrupt\u001b[0m                         Traceback (most recent call last)",
      "\u001b[0;32m<ipython-input-32-3066cfa0c605>\u001b[0m in \u001b[0;36m<module>\u001b[0;34m()\u001b[0m\n\u001b[1;32m      7\u001b[0m         \u001b[0msess\u001b[0m\u001b[0;34m.\u001b[0m\u001b[0mrun\u001b[0m\u001b[0;34m(\u001b[0m\u001b[0mtraining_op\u001b[0m\u001b[0;34m,\u001b[0m \u001b[0mfeed_dict\u001b[0m\u001b[0;34m=\u001b[0m\u001b[0;34m{\u001b[0m\u001b[0mX\u001b[0m\u001b[0;34m:\u001b[0m \u001b[0mx_batches\u001b[0m\u001b[0;34m,\u001b[0m \u001b[0my\u001b[0m\u001b[0;34m:\u001b[0m \u001b[0my_batches\u001b[0m\u001b[0;34m}\u001b[0m\u001b[0;34m)\u001b[0m\u001b[0;34m\u001b[0m\u001b[0m\n\u001b[1;32m      8\u001b[0m         \u001b[0;32mif\u001b[0m \u001b[0mep\u001b[0m\u001b[0;34m%\u001b[0m\u001b[0;36m10\u001b[0m \u001b[0;34m==\u001b[0m \u001b[0;36m0\u001b[0m\u001b[0;34m:\u001b[0m\u001b[0;34m\u001b[0m\u001b[0m\n\u001b[0;32m----> 9\u001b[0;31m             \u001b[0mmse\u001b[0m \u001b[0;34m=\u001b[0m \u001b[0mloss\u001b[0m\u001b[0;34m.\u001b[0m\u001b[0meval\u001b[0m\u001b[0;34m(\u001b[0m\u001b[0mfeed_dict\u001b[0m\u001b[0;34m=\u001b[0m\u001b[0;34m{\u001b[0m\u001b[0mX\u001b[0m\u001b[0;34m:\u001b[0m \u001b[0mx_batches\u001b[0m\u001b[0;34m,\u001b[0m \u001b[0my\u001b[0m\u001b[0;34m:\u001b[0m \u001b[0my_batches\u001b[0m\u001b[0;34m}\u001b[0m\u001b[0;34m)\u001b[0m\u001b[0;34m\u001b[0m\u001b[0m\n\u001b[0m\u001b[1;32m     10\u001b[0m             \u001b[0minputs\u001b[0m\u001b[0;34m.\u001b[0m\u001b[0mappend\u001b[0m\u001b[0;34m(\u001b[0m\u001b[0mmse\u001b[0m\u001b[0;34m)\u001b[0m\u001b[0;34m\u001b[0m\u001b[0m\n\u001b[1;32m     11\u001b[0m             \u001b[0;32mprint\u001b[0m \u001b[0mep\u001b[0m\u001b[0;34m,\u001b[0m\u001b[0;34m\"\\tMSE:\"\u001b[0m\u001b[0;34m,\u001b[0m \u001b[0mmse\u001b[0m\u001b[0;34m\u001b[0m\u001b[0m\n",
      "\u001b[0;32m/home/jobin/anaconda2/lib/python2.7/site-packages/tensorflow/python/framework/ops.pyc\u001b[0m in \u001b[0;36meval\u001b[0;34m(self, feed_dict, session)\u001b[0m\n\u001b[1;32m    654\u001b[0m \u001b[0;34m\u001b[0m\u001b[0m\n\u001b[1;32m    655\u001b[0m     \"\"\"\n\u001b[0;32m--> 656\u001b[0;31m     \u001b[0;32mreturn\u001b[0m \u001b[0m_eval_using_default_session\u001b[0m\u001b[0;34m(\u001b[0m\u001b[0mself\u001b[0m\u001b[0;34m,\u001b[0m \u001b[0mfeed_dict\u001b[0m\u001b[0;34m,\u001b[0m \u001b[0mself\u001b[0m\u001b[0;34m.\u001b[0m\u001b[0mgraph\u001b[0m\u001b[0;34m,\u001b[0m \u001b[0msession\u001b[0m\u001b[0;34m)\u001b[0m\u001b[0;34m\u001b[0m\u001b[0m\n\u001b[0m\u001b[1;32m    657\u001b[0m \u001b[0;34m\u001b[0m\u001b[0m\n\u001b[1;32m    658\u001b[0m \u001b[0;34m\u001b[0m\u001b[0m\n",
      "\u001b[0;32m/home/jobin/anaconda2/lib/python2.7/site-packages/tensorflow/python/framework/ops.pyc\u001b[0m in \u001b[0;36m_eval_using_default_session\u001b[0;34m(tensors, feed_dict, graph, session)\u001b[0m\n\u001b[1;32m   5014\u001b[0m                        \u001b[0;34m\"the tensor's graph is different from the session's \"\u001b[0m\u001b[0;34m\u001b[0m\u001b[0m\n\u001b[1;32m   5015\u001b[0m                        \"graph.\")\n\u001b[0;32m-> 5016\u001b[0;31m   \u001b[0;32mreturn\u001b[0m \u001b[0msession\u001b[0m\u001b[0;34m.\u001b[0m\u001b[0mrun\u001b[0m\u001b[0;34m(\u001b[0m\u001b[0mtensors\u001b[0m\u001b[0;34m,\u001b[0m \u001b[0mfeed_dict\u001b[0m\u001b[0;34m)\u001b[0m\u001b[0;34m\u001b[0m\u001b[0m\n\u001b[0m\u001b[1;32m   5017\u001b[0m \u001b[0;34m\u001b[0m\u001b[0m\n\u001b[1;32m   5018\u001b[0m \u001b[0;34m\u001b[0m\u001b[0m\n",
      "\u001b[0;32m/home/jobin/anaconda2/lib/python2.7/site-packages/tensorflow/python/client/session.pyc\u001b[0m in \u001b[0;36mrun\u001b[0;34m(self, fetches, feed_dict, options, run_metadata)\u001b[0m\n\u001b[1;32m    903\u001b[0m     \u001b[0;32mtry\u001b[0m\u001b[0;34m:\u001b[0m\u001b[0;34m\u001b[0m\u001b[0m\n\u001b[1;32m    904\u001b[0m       result = self._run(None, fetches, feed_dict, options_ptr,\n\u001b[0;32m--> 905\u001b[0;31m                          run_metadata_ptr)\n\u001b[0m\u001b[1;32m    906\u001b[0m       \u001b[0;32mif\u001b[0m \u001b[0mrun_metadata\u001b[0m\u001b[0;34m:\u001b[0m\u001b[0;34m\u001b[0m\u001b[0m\n\u001b[1;32m    907\u001b[0m         \u001b[0mproto_data\u001b[0m \u001b[0;34m=\u001b[0m \u001b[0mtf_session\u001b[0m\u001b[0;34m.\u001b[0m\u001b[0mTF_GetBuffer\u001b[0m\u001b[0;34m(\u001b[0m\u001b[0mrun_metadata_ptr\u001b[0m\u001b[0;34m)\u001b[0m\u001b[0;34m\u001b[0m\u001b[0m\n",
      "\u001b[0;32m/home/jobin/anaconda2/lib/python2.7/site-packages/tensorflow/python/client/session.pyc\u001b[0m in \u001b[0;36m_run\u001b[0;34m(self, handle, fetches, feed_dict, options, run_metadata)\u001b[0m\n\u001b[1;32m   1138\u001b[0m     \u001b[0;32mif\u001b[0m \u001b[0mfinal_fetches\u001b[0m \u001b[0;32mor\u001b[0m \u001b[0mfinal_targets\u001b[0m \u001b[0;32mor\u001b[0m \u001b[0;34m(\u001b[0m\u001b[0mhandle\u001b[0m \u001b[0;32mand\u001b[0m \u001b[0mfeed_dict_tensor\u001b[0m\u001b[0;34m)\u001b[0m\u001b[0;34m:\u001b[0m\u001b[0;34m\u001b[0m\u001b[0m\n\u001b[1;32m   1139\u001b[0m       results = self._do_run(handle, final_targets, final_fetches,\n\u001b[0;32m-> 1140\u001b[0;31m                              feed_dict_tensor, options, run_metadata)\n\u001b[0m\u001b[1;32m   1141\u001b[0m     \u001b[0;32melse\u001b[0m\u001b[0;34m:\u001b[0m\u001b[0;34m\u001b[0m\u001b[0m\n\u001b[1;32m   1142\u001b[0m       \u001b[0mresults\u001b[0m \u001b[0;34m=\u001b[0m \u001b[0;34m[\u001b[0m\u001b[0;34m]\u001b[0m\u001b[0;34m\u001b[0m\u001b[0m\n",
      "\u001b[0;32m/home/jobin/anaconda2/lib/python2.7/site-packages/tensorflow/python/client/session.pyc\u001b[0m in \u001b[0;36m_do_run\u001b[0;34m(self, handle, target_list, fetch_list, feed_dict, options, run_metadata)\u001b[0m\n\u001b[1;32m   1319\u001b[0m     \u001b[0;32mif\u001b[0m \u001b[0mhandle\u001b[0m \u001b[0;32mis\u001b[0m \u001b[0mNone\u001b[0m\u001b[0;34m:\u001b[0m\u001b[0;34m\u001b[0m\u001b[0m\n\u001b[1;32m   1320\u001b[0m       return self._do_call(_run_fn, feeds, fetches, targets, options,\n\u001b[0;32m-> 1321\u001b[0;31m                            run_metadata)\n\u001b[0m\u001b[1;32m   1322\u001b[0m     \u001b[0;32melse\u001b[0m\u001b[0;34m:\u001b[0m\u001b[0;34m\u001b[0m\u001b[0m\n\u001b[1;32m   1323\u001b[0m       \u001b[0;32mreturn\u001b[0m \u001b[0mself\u001b[0m\u001b[0;34m.\u001b[0m\u001b[0m_do_call\u001b[0m\u001b[0;34m(\u001b[0m\u001b[0m_prun_fn\u001b[0m\u001b[0;34m,\u001b[0m \u001b[0mhandle\u001b[0m\u001b[0;34m,\u001b[0m \u001b[0mfeeds\u001b[0m\u001b[0;34m,\u001b[0m \u001b[0mfetches\u001b[0m\u001b[0;34m)\u001b[0m\u001b[0;34m\u001b[0m\u001b[0m\n",
      "\u001b[0;32m/home/jobin/anaconda2/lib/python2.7/site-packages/tensorflow/python/client/session.pyc\u001b[0m in \u001b[0;36m_do_call\u001b[0;34m(self, fn, *args)\u001b[0m\n\u001b[1;32m   1325\u001b[0m   \u001b[0;32mdef\u001b[0m \u001b[0m_do_call\u001b[0m\u001b[0;34m(\u001b[0m\u001b[0mself\u001b[0m\u001b[0;34m,\u001b[0m \u001b[0mfn\u001b[0m\u001b[0;34m,\u001b[0m \u001b[0;34m*\u001b[0m\u001b[0margs\u001b[0m\u001b[0;34m)\u001b[0m\u001b[0;34m:\u001b[0m\u001b[0;34m\u001b[0m\u001b[0m\n\u001b[1;32m   1326\u001b[0m     \u001b[0;32mtry\u001b[0m\u001b[0;34m:\u001b[0m\u001b[0;34m\u001b[0m\u001b[0m\n\u001b[0;32m-> 1327\u001b[0;31m       \u001b[0;32mreturn\u001b[0m \u001b[0mfn\u001b[0m\u001b[0;34m(\u001b[0m\u001b[0;34m*\u001b[0m\u001b[0margs\u001b[0m\u001b[0;34m)\u001b[0m\u001b[0;34m\u001b[0m\u001b[0m\n\u001b[0m\u001b[1;32m   1328\u001b[0m     \u001b[0;32mexcept\u001b[0m \u001b[0merrors\u001b[0m\u001b[0;34m.\u001b[0m\u001b[0mOpError\u001b[0m \u001b[0;32mas\u001b[0m \u001b[0me\u001b[0m\u001b[0;34m:\u001b[0m\u001b[0;34m\u001b[0m\u001b[0m\n\u001b[1;32m   1329\u001b[0m       \u001b[0mmessage\u001b[0m \u001b[0;34m=\u001b[0m \u001b[0mcompat\u001b[0m\u001b[0;34m.\u001b[0m\u001b[0mas_text\u001b[0m\u001b[0;34m(\u001b[0m\u001b[0me\u001b[0m\u001b[0;34m.\u001b[0m\u001b[0mmessage\u001b[0m\u001b[0;34m)\u001b[0m\u001b[0;34m\u001b[0m\u001b[0m\n",
      "\u001b[0;32m/home/jobin/anaconda2/lib/python2.7/site-packages/tensorflow/python/client/session.pyc\u001b[0m in \u001b[0;36m_run_fn\u001b[0;34m(feed_dict, fetch_list, target_list, options, run_metadata)\u001b[0m\n\u001b[1;32m   1310\u001b[0m       \u001b[0mself\u001b[0m\u001b[0;34m.\u001b[0m\u001b[0m_extend_graph\u001b[0m\u001b[0;34m(\u001b[0m\u001b[0;34m)\u001b[0m\u001b[0;34m\u001b[0m\u001b[0m\n\u001b[1;32m   1311\u001b[0m       return self._call_tf_sessionrun(\n\u001b[0;32m-> 1312\u001b[0;31m           options, feed_dict, fetch_list, target_list, run_metadata)\n\u001b[0m\u001b[1;32m   1313\u001b[0m \u001b[0;34m\u001b[0m\u001b[0m\n\u001b[1;32m   1314\u001b[0m     \u001b[0;32mdef\u001b[0m \u001b[0m_prun_fn\u001b[0m\u001b[0;34m(\u001b[0m\u001b[0mhandle\u001b[0m\u001b[0;34m,\u001b[0m \u001b[0mfeed_dict\u001b[0m\u001b[0;34m,\u001b[0m \u001b[0mfetch_list\u001b[0m\u001b[0;34m)\u001b[0m\u001b[0;34m:\u001b[0m\u001b[0;34m\u001b[0m\u001b[0m\n",
      "\u001b[0;32m/home/jobin/anaconda2/lib/python2.7/site-packages/tensorflow/python/client/session.pyc\u001b[0m in \u001b[0;36m_call_tf_sessionrun\u001b[0;34m(self, options, feed_dict, fetch_list, target_list, run_metadata)\u001b[0m\n\u001b[1;32m   1418\u001b[0m         return tf_session.TF_Run(\n\u001b[1;32m   1419\u001b[0m             \u001b[0mself\u001b[0m\u001b[0;34m.\u001b[0m\u001b[0m_session\u001b[0m\u001b[0;34m,\u001b[0m \u001b[0moptions\u001b[0m\u001b[0;34m,\u001b[0m \u001b[0mfeed_dict\u001b[0m\u001b[0;34m,\u001b[0m \u001b[0mfetch_list\u001b[0m\u001b[0;34m,\u001b[0m \u001b[0mtarget_list\u001b[0m\u001b[0;34m,\u001b[0m\u001b[0;34m\u001b[0m\u001b[0m\n\u001b[0;32m-> 1420\u001b[0;31m             status, run_metadata)\n\u001b[0m\u001b[1;32m   1421\u001b[0m \u001b[0;34m\u001b[0m\u001b[0m\n\u001b[1;32m   1422\u001b[0m   \u001b[0;32mdef\u001b[0m \u001b[0m_call_tf_sessionprun\u001b[0m\u001b[0;34m(\u001b[0m\u001b[0mself\u001b[0m\u001b[0;34m,\u001b[0m \u001b[0mhandle\u001b[0m\u001b[0;34m,\u001b[0m \u001b[0mfeed_dict\u001b[0m\u001b[0;34m,\u001b[0m \u001b[0mfetch_list\u001b[0m\u001b[0;34m)\u001b[0m\u001b[0;34m:\u001b[0m\u001b[0;34m\u001b[0m\u001b[0m\n",
      "\u001b[0;31mKeyboardInterrupt\u001b[0m: "
     ]
    }
   ],
   "source": [
    "#train the model\n",
    "inputs =[]\n",
    "epochs = 3000\n",
    "with tf.Session() as sess:\n",
    "    init.run()\n",
    "    for ep in range (epochs):\n",
    "        sess.run(training_op, feed_dict={X: x_batches, y: y_batches})\n",
    "        if ep%10 == 0:\n",
    "            mse = loss.eval(feed_dict={X: x_batches, y: y_batches})\n",
    "            inputs.append(mse)\n",
    "            print ep,\"\\tMSE:\", mse\n",
    "            \n",
    "    y_pred = sess.run(outputs, feed_dict={X: X_test})\n",
    "    print(y_pred)\n",
    "        \n",
    "    "
   ]
  },
  {
   "cell_type": "code",
   "execution_count": null,
   "metadata": {},
   "outputs": [],
   "source": [
    "plt.title(\"Forecast vs Title\", fontsize=14)\n",
    "plt.plot(pd.Series(np.ravel(Y_test)), label = \"Actual\")\n",
    "plt.plot(pd.Series(np.ravel(y_pred)), label = \"Forecast\")\n",
    "plt.legend(loc = \"upper right\")\n",
    "plt.xlabel(\"Samples\")\n",
    "plt.show()"
   ]
  },
  {
   "cell_type": "code",
   "execution_count": null,
   "metadata": {},
   "outputs": [],
   "source": [
    "plt.title(\"MSE\", fontsize=14)\n",
    "plt.plot(pd.Series(np.ravel(inputs)))\n",
    "plt.xlabel(\"Epochs\")\n",
    "plt.ylabel(\"MSE\")\n",
    "plt.grid(True)\n",
    "plt.show()"
   ]
  },
  {
   "cell_type": "code",
   "execution_count": 9,
   "metadata": {},
   "outputs": [
    {
     "name": "stdout",
     "output_type": "stream",
     "text": [
      "0.49437934925715543\n"
     ]
    },
    {
     "data": {
      "image/png": "[encoded data removed]",
      "text/plain": [
       "<matplotlib.figure.Figure at 0x7fad6a8fd4d0>"
      ]
     },
     "metadata": {},
     "output_type": "display_data"
    }
   ],
   "source": [
    "import nolds\n",
    "import numpy as np\n",
    "import pandas as pd\n",
    "import matplotlib.pyplot as plt\n",
    "#lm = ts.reshape(4096,1)\n",
    "rwalk = np.random.normal(0,1,1000)\n",
    "plt.plot(rwalk)\n",
    "x = np.fromiter(rwalk, dtype=\"float32\")\n",
    "l = nolds.hurst_rs(x)\n",
    "print l"
   ]
  },
  {
   "cell_type": "code",
   "execution_count": null,
   "metadata": {},
   "outputs": [],
   "source": []
  }
 ],
 "metadata": {
  "kernelspec": {
   "display_name": "Python 2",
   "language": "python",
   "name": "python2"
  },
  "language_info": {
   "codemirror_mode": {
    "name": "ipython",
    "version": 2
   },
   "file_extension": ".py",
   "mimetype": "text/x-python",
   "name": "python",
   "nbconvert_exporter": "python",
   "pygments_lexer": "ipython2",
   "version": "2.7.14"
  }
 },
 "nbformat": 4,
 "nbformat_minor": 2
}
